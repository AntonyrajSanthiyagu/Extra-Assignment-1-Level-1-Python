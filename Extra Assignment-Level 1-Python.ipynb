{
 "cells": [
  {
   "cell_type": "code",
   "execution_count": 1,
   "id": "e08e4f5d-b270-42a3-9be4-c03a9797b3f4",
   "metadata": {},
   "outputs": [
    {
     "name": "stdout",
     "output_type": "stream",
     "text": [
      "Hope AI\n"
     ]
    }
   ],
   "source": [
    "print(\"Hope AI\")"
   ]
  },
  {
   "cell_type": "code",
   "execution_count": 3,
   "id": "2601faf6-2e03-4940-b548-836e4311df17",
   "metadata": {},
   "outputs": [
    {
     "name": "stdout",
     "output_type": "stream",
     "text": [
      "Enter your institute name?:Hope AI\n"
     ]
    }
   ],
   "source": [
    "print(\"Enter your institute name?:Hope AI\")"
   ]
  },
  {
   "cell_type": "code",
   "execution_count": 5,
   "id": "16d0b521-85e7-438f-8411-c18f14287be9",
   "metadata": {},
   "outputs": [
    {
     "name": "stdout",
     "output_type": "stream",
     "text": [
      "Enter your name:Raj\n",
      "Enter your age:15\n",
      "Enter your school name:Guru school\n",
      "Enter your degree: B.E. CSE\n"
     ]
    }
   ],
   "source": [
    "print(\"Enter your name:Raj\")\n",
    "print(\"Enter your age:15\")\n",
    "print(\"Enter your school name:Guru school\")\n",
    "print(\"Enter your degree: B.E. CSE\")"
   ]
  },
  {
   "cell_type": "code",
   "execution_count": 79,
   "id": "47677697-a5e9-4ad9-b9b2-be05d0a17082",
   "metadata": {},
   "outputs": [
    {
     "name": "stdout",
     "output_type": "stream",
     "text": [
      "The addition of two numbers\n",
      "a=43\n",
      "b=34\n",
      "add= 77\n"
     ]
    }
   ],
   "source": [
    "print(\"The addition of two numbers\")\n",
    "a=43\n",
    "print(\"a=43\")\n",
    "b=34\n",
    "print(\"b=34\")\n",
    "add=a+b\n",
    "print(\"add=\",add)"
   ]
  },
  {
   "cell_type": "code",
   "execution_count": 81,
   "id": "77e2f4f5-fe83-4fbf-8ed5-a2d4a267d42e",
   "metadata": {},
   "outputs": [
    {
     "name": "stdout",
     "output_type": "stream",
     "text": [
      "The subtraction of two numbers\n",
      "a=43\n",
      "b=34\n",
      "sub= 9\n"
     ]
    }
   ],
   "source": [
    "print(\"The subtraction of two numbers\")\n",
    "a=43\n",
    "print(\"a=43\")\n",
    "b=34\n",
    "print(\"b=34\")\n",
    "sub=a-b\n",
    "print(\"sub=\",sub)"
   ]
  },
  {
   "cell_type": "code",
   "execution_count": 83,
   "id": "8a23633e-081d-48ab-bb2e-ddf7b9ac2c72",
   "metadata": {},
   "outputs": [
    {
     "name": "stdout",
     "output_type": "stream",
     "text": [
      "The multiplication of two numbers\n",
      "a=63\n",
      "b=97\n",
      "mul= 6111\n"
     ]
    }
   ],
   "source": [
    "print(\"The multiplication of two numbers\")\n",
    "a=63\n",
    "print(\"a=63\")\n",
    "b=97\n",
    "print(\"b=97\")\n",
    "mul=a*b\n",
    "print(\"mul=\",mul)"
   ]
  },
  {
   "cell_type": "code",
   "execution_count": 87,
   "id": "7d5ae78f-56c9-45c4-a3c8-6efb027c9671",
   "metadata": {},
   "outputs": [
    {
     "ename": "SyntaxError",
     "evalue": "invalid syntax (2734934665.py, line 6)",
     "output_type": "error",
     "traceback": [
      "\u001b[1;36m  Cell \u001b[1;32mIn[87], line 6\u001b[1;36m\u001b[0m\n\u001b[1;33m    float division=a/b\u001b[0m\n\u001b[1;37m          ^\u001b[0m\n\u001b[1;31mSyntaxError\u001b[0m\u001b[1;31m:\u001b[0m invalid syntax\n"
     ]
    }
   ],
   "source": [
    "print(\"The float division of two numbers\")\n",
    "a=76\n",
    "print(\"a=76\")\n",
    "b=31\n",
    "print(\"b=31\")\n",
    "float division=a/b\n",
    "print(\"float div=\",float division)"
   ]
  },
  {
   "cell_type": "code",
   "execution_count": 75,
   "id": "3f8db356-00ce-491d-8dcc-38111aa63957",
   "metadata": {},
   "outputs": [
    {
     "ename": "SyntaxError",
     "evalue": "invalid syntax (197661271.py, line 6)",
     "output_type": "error",
     "traceback": [
      "\u001b[1;36m  Cell \u001b[1;32mIn[75], line 6\u001b[1;36m\u001b[0m\n\u001b[1;33m    floor division=a/b\u001b[0m\n\u001b[1;37m          ^\u001b[0m\n\u001b[1;31mSyntaxError\u001b[0m\u001b[1;31m:\u001b[0m invalid syntax\n"
     ]
    }
   ],
   "source": [
    "print(\"The division of two numbers\")\n",
    "a=76\n",
    "print(\"a=76\")\n",
    "b=31\n",
    "print(\"b=31\")\n",
    "floor division=a/b\n",
    "print(\"floor div=2\")"
   ]
  },
  {
   "cell_type": "code",
   "execution_count": 71,
   "id": "7aa10c1d-fa3c-4fd3-b6cb-62353f743f01",
   "metadata": {},
   "outputs": [
    {
     "name": "stdout",
     "output_type": "stream",
     "text": [
      "The modulo of two numbers\n",
      "a=76\n",
      "b=31\n",
      "modulo=14\n"
     ]
    }
   ],
   "source": [
    "print(\"The modulo of two numbers\")\n",
    "a=76\n",
    "print(\"a=76\")\n",
    "b=31\n",
    "print(\"b=31\")\n",
    "print(\"modulo=14\")"
   ]
  },
  {
   "cell_type": "code",
   "execution_count": 89,
   "id": "c2f7afe8-224c-4221-9f44-62f920245ab1",
   "metadata": {},
   "outputs": [
    {
     "name": "stdout",
     "output_type": "stream",
     "text": [
      "The power of two numbers\n",
      "a=4\n",
      "b=4\n"
     ]
    },
    {
     "ename": "NameError",
     "evalue": "name 'power' is not defined",
     "output_type": "error",
     "traceback": [
      "\u001b[1;31m---------------------------------------------------------------------------\u001b[0m",
      "\u001b[1;31mNameError\u001b[0m                                 Traceback (most recent call last)",
      "Cell \u001b[1;32mIn[89], line 6\u001b[0m\n\u001b[0;32m      4\u001b[0m b\u001b[38;5;241m=\u001b[39m\u001b[38;5;241m4\u001b[39m\n\u001b[0;32m      5\u001b[0m \u001b[38;5;28mprint\u001b[39m(\u001b[38;5;124m\"\u001b[39m\u001b[38;5;124mb=4\u001b[39m\u001b[38;5;124m\"\u001b[39m)\n\u001b[1;32m----> 6\u001b[0m \u001b[38;5;28mprint\u001b[39m(\u001b[38;5;124m\"\u001b[39m\u001b[38;5;124mpower=\u001b[39m\u001b[38;5;124m\"\u001b[39m,power)\n",
      "\u001b[1;31mNameError\u001b[0m: name 'power' is not defined"
     ]
    }
   ],
   "source": [
    "print(\"The power of two numbers\")\n",
    "a=4\n",
    "print(\"a=4\")\n",
    "b=4\n",
    "print(\"b=4\")\n",
    "print(\"power=\",power)"
   ]
  },
  {
   "cell_type": "code",
   "execution_count": null,
   "id": "0fab3e5d-d003-4d5c-bb5e-ee495611a8da",
   "metadata": {},
   "outputs": [],
   "source": []
  }
 ],
 "metadata": {
  "kernelspec": {
   "display_name": "Python 3 (ipykernel)",
   "language": "python",
   "name": "python3"
  },
  "language_info": {
   "codemirror_mode": {
    "name": "ipython",
    "version": 3
   },
   "file_extension": ".py",
   "mimetype": "text/x-python",
   "name": "python",
   "nbconvert_exporter": "python",
   "pygments_lexer": "ipython3",
   "version": "3.12.4"
  }
 },
 "nbformat": 4,
 "nbformat_minor": 5
}
