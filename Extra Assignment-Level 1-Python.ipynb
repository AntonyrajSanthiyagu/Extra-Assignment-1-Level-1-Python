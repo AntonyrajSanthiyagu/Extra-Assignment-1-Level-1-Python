{
 "cells": [
  {
   "cell_type": "code",
   "execution_count": 1,
   "id": "e08e4f5d-b270-42a3-9be4-c03a9797b3f4",
   "metadata": {},
   "outputs": [
    {
     "name": "stdout",
     "output_type": "stream",
     "text": [
      "Hope AI\n"
     ]
    }
   ],
   "source": [
    "print(\"Hope AI\")"
   ]
  },
  {
   "cell_type": "code",
   "execution_count": 3,
   "id": "2601faf6-2e03-4940-b548-836e4311df17",
   "metadata": {},
   "outputs": [
    {
     "name": "stdout",
     "output_type": "stream",
     "text": [
      "Enter your institute name?:Hope AI\n"
     ]
    }
   ],
   "source": [
    "print(\"Enter your institute name?:Hope AI\")"
   ]
  },
  {
   "cell_type": "code",
   "execution_count": 5,
   "id": "16d0b521-85e7-438f-8411-c18f14287be9",
   "metadata": {},
   "outputs": [
    {
     "name": "stdout",
     "output_type": "stream",
     "text": [
      "Enter your name:Raj\n",
      "Enter your age:15\n",
      "Enter your school name:Guru school\n",
      "Enter your degree: B.E. CSE\n"
     ]
    }
   ],
   "source": [
    "print(\"Enter your name:Raj\")\n",
    "print(\"Enter your age:15\")\n",
    "print(\"Enter your school name:Guru school\")\n",
    "print(\"Enter your degree: B.E. CSE\")"
   ]
  },
  {
   "cell_type": "code",
   "execution_count": 79,
   "id": "47677697-a5e9-4ad9-b9b2-be05d0a17082",
   "metadata": {},
   "outputs": [
    {
     "name": "stdout",
     "output_type": "stream",
     "text": [
      "The addition of two numbers\n",
      "a=43\n",
      "b=34\n",
      "add= 77\n"
     ]
    }
   ],
   "source": [
    "print(\"The addition of two numbers\")\n",
    "a=43\n",
    "print(\"a=43\")\n",
    "b=34\n",
    "print(\"b=34\")\n",
    "add=a+b\n",
    "print(\"add=\",add)"
   ]
  },
  {
   "cell_type": "code",
   "execution_count": 81,
   "id": "77e2f4f5-fe83-4fbf-8ed5-a2d4a267d42e",
   "metadata": {},
   "outputs": [
    {
     "name": "stdout",
     "output_type": "stream",
     "text": [
      "The subtraction of two numbers\n",
      "a=43\n",
      "b=34\n",
      "sub= 9\n"
     ]
    }
   ],
   "source": [
    "print(\"The subtraction of two numbers\")\n",
    "a=43\n",
    "print(\"a=43\")\n",
    "b=34\n",
    "print(\"b=34\")\n",
    "sub=a-b\n",
    "print(\"sub=\",sub)"
   ]
  },
  {
   "cell_type": "code",
   "execution_count": 83,
   "id": "8a23633e-081d-48ab-bb2e-ddf7b9ac2c72",
   "metadata": {},
   "outputs": [
    {
     "name": "stdout",
     "output_type": "stream",
     "text": [
      "The multiplication of two numbers\n",
      "a=63\n",
      "b=97\n",
      "mul= 6111\n"
     ]
    }
   ],
   "source": [
    "print(\"The multiplication of two numbers\")\n",
    "a=63\n",
    "print(\"a=63\")\n",
    "b=97\n",
    "print(\"b=97\")\n",
    "mul=a*b\n",
    "print(\"mul=\",mul)"
   ]
  },
  {
   "cell_type": "code",
   "execution_count": 7,
   "id": "7d5ae78f-56c9-45c4-a3c8-6efb027c9671",
   "metadata": {},
   "outputs": [
    {
     "name": "stdout",
     "output_type": "stream",
     "text": [
      "The float division of two numbers\n",
      "a=76\n",
      "b=31\n",
      "float= 2.4516129032258065\n"
     ]
    }
   ],
   "source": [
    "print(\"The float division of two numbers\")\n",
    "a=76\n",
    "print(\"a=76\")\n",
    "b=31\n",
    "print(\"b=31\")\n",
    "float=a/b\n",
    "print(\"float=\",float)"
   ]
  },
  {
   "cell_type": "code",
   "execution_count": 9,
   "id": "3f8db356-00ce-491d-8dcc-38111aa63957",
   "metadata": {},
   "outputs": [
    {
     "name": "stdout",
     "output_type": "stream",
     "text": [
      "The division of two numbers\n",
      "a=76\n",
      "b=31\n",
      "floor=2 2.4516129032258065\n"
     ]
    }
   ],
   "source": [
    "print(\"The division of two numbers\")\n",
    "a=76\n",
    "print(\"a=76\")\n",
    "b=31\n",
    "print(\"b=31\")\n",
    "floor=a/b\n",
    "print(\"floor=2\",floor)"
   ]
  },
  {
   "cell_type": "code",
   "execution_count": 15,
   "id": "7aa10c1d-fa3c-4fd3-b6cb-62353f743f01",
   "metadata": {},
   "outputs": [
    {
     "name": "stdout",
     "output_type": "stream",
     "text": [
      "The modulo of two numbers\n",
      "a=76\n",
      "b=31\n",
      "modulo= 14\n"
     ]
    }
   ],
   "source": [
    "print(\"The modulo of two numbers\")\n",
    "a=76\n",
    "print(\"a=76\")\n",
    "b=31\n",
    "print(\"b=31\")\n",
    "modulo=a%b\n",
    "print(\"modulo=\",modulo)"
   ]
  },
  {
   "cell_type": "code",
   "execution_count": 17,
   "id": "c2f7afe8-224c-4221-9f44-62f920245ab1",
   "metadata": {},
   "outputs": [
    {
     "name": "stdout",
     "output_type": "stream",
     "text": [
      "The power of two numbers\n",
      "a=4\n",
      "b=4\n",
      "power= 256\n"
     ]
    }
   ],
   "source": [
    "print(\"The power of two numbers\")\n",
    "a=4\n",
    "print(\"a=4\")\n",
    "b=4\n",
    "print(\"b=4\")\n",
    "power=a**b\n",
    "print(\"power=\",power)"
   ]
  },
  {
   "cell_type": "code",
   "execution_count": null,
   "id": "0fab3e5d-d003-4d5c-bb5e-ee495611a8da",
   "metadata": {},
   "outputs": [],
   "source": []
  }
 ],
 "metadata": {
  "kernelspec": {
   "display_name": "Python 3 (ipykernel)",
   "language": "python",
   "name": "python3"
  },
  "language_info": {
   "codemirror_mode": {
    "name": "ipython",
    "version": 3
   },
   "file_extension": ".py",
   "mimetype": "text/x-python",
   "name": "python",
   "nbconvert_exporter": "python",
   "pygments_lexer": "ipython3",
   "version": "3.12.4"
  }
 },
 "nbformat": 4,
 "nbformat_minor": 5
}
